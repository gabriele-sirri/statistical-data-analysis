{
  "nbformat": 4,
  "nbformat_minor": 0,
  "metadata": {
    "colab": {
      "provenance": [],
      "toc_visible": true,
      "authorship_tag": "ABX9TyNtb6npUuRRcgck1hYCEJM1",
      "include_colab_link": true
    },
    "kernelspec": {
      "name": "python3",
      "display_name": "Python 3"
    },
    "language_info": {
      "name": "python"
    }
  },
  "cells": [
    {
      "cell_type": "markdown",
      "metadata": {
        "id": "view-in-github",
        "colab_type": "text"
      },
      "source": [
        "<a href=\"https://colab.research.google.com/github/gabriele-sirri/statistical-data-analysis/blob/main/ROOT_installation_and_RooFit_test.ipynb\" target=\"_parent\"><img src=\"https://colab.research.google.com/assets/colab-badge.svg\" alt=\"Open In Colab\"/></a>"
      ]
    },
    {
      "cell_type": "code",
      "source": [
        "!sudo apt-get install libgslcblas0 libgsl27\n",
        "! wget https://root.cern/download/root_v6.32.06.Linux-ubuntu22.04-x86_64-gcc11.4.tar.gz\n",
        "! tar -xzvf root_v6.32.06.Linux-ubuntu22.04-x86_64-gcc11.4.tar.gz"
      ],
      "metadata": {
        "collapsed": true,
        "id": "B_KG2wwpA8Tl"
      },
      "execution_count": null,
      "outputs": []
    },
    {
      "cell_type": "code",
      "source": [
        "import sys\n",
        "sys.path.append(\"root/lib\")\n",
        "import ctypes\n",
        "ctypes.cdll.LoadLibrary('root/lib/libCore.so')\n",
        "ctypes.cdll.LoadLibrary('root/lib/libThread.so')\n",
        "ctypes.cdll.LoadLibrary('root/lib/libImt.so')\n",
        "ctypes.cdll.LoadLibrary('root/lib/libRIO.so')\n",
        "ctypes.cdll.LoadLibrary('root/lib/libNet.so')\n",
        "ctypes.cdll.LoadLibrary('root/lib/libTree.so')\n",
        "ctypes.cdll.LoadLibrary('root/lib/libMathCore.so')\n",
        "ctypes.cdll.LoadLibrary('root/lib/libMatrix.so')\n",
        "ctypes.cdll.LoadLibrary('root/lib/libHist.so')\n",
        "ctypes.cdll.LoadLibrary('root/lib/libGraf.so')\n",
        "ctypes.cdll.LoadLibrary('root/lib/libRooFitMore.so')\n",
        "import ROOT"
      ],
      "metadata": {
        "id": "Bll0mhTSCpUT"
      },
      "execution_count": 3,
      "outputs": []
    },
    {
      "cell_type": "code",
      "source": [
        "x = ROOT.RooRealVar(\"x\", \"x\", -10, 10)\n",
        "mean = ROOT.RooRealVar(\"mean\", \"mean of gaussian\", 1, -10, 10)\n",
        "sigma = ROOT.RooRealVar(\"sigma\", \"width of gaussian\", 1, 0.1, 10)\n",
        "\n",
        "gauss = ROOT.RooGaussian(\"gauss\", \"gaussian PDF\", x, mean, sigma)\n",
        "\n",
        "xframe = x.frame(Title=\"Gaussian pdf\")  # RooPlot\n",
        "gauss.plotOn(xframe)\n",
        "\n",
        "c = ROOT.TCanvas(\"rf101_basics\", \"rf101_basics\", 800, 400)\n",
        "\n",
        "ROOT.gPad.SetLeftMargin(0.15)\n",
        "xframe.GetYaxis().SetTitleOffset(1.6)\n",
        "xframe.Draw()\n",
        "\n",
        "c.SaveAs(\"rf101_basics.png\")\n",
        "\n",
        "from ROOT import gROOT\n",
        "gROOT.GetListOfCanvases().Draw()"
      ],
      "metadata": {
        "id": "ezvRo0iPCr97",
        "colab": {
          "base_uri": "https://localhost:8080/",
          "height": 406
        },
        "outputId": "ee1d5e18-8435-45eb-a507-e91b5d30f0fb"
      },
      "execution_count": 4,
      "outputs": [
        {
          "output_type": "stream",
          "name": "stderr",
          "text": [
            "Info in <TCanvas::Print>: png file rf101_basics.png has been created\n"
          ]
        },
        {
          "output_type": "display_data",
          "data": {
            "image/png": "[encoded data removed]",
            "text/plain": [
              "<IPython.core.display.Image object>"
            ]
          },
          "metadata": {}
        }
      ]
    }
  ]
}